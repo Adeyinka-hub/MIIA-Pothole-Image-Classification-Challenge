{
 "cells": [
  {
   "cell_type": "markdown",
   "metadata": {},
   "source": [
    "### MIIA Pothole Image Classification Challenge\n",
    "\n",
    "#### The task of this challenge is to build a computer vision system using Machine Learning tools to identify which roads on South Africa contains potholes.\n",
    "\n",
    "#### This solution uses Keras and a pretrained network (DenseNet201)"
   ]
  },
  {
   "cell_type": "code",
   "execution_count": 1,
   "metadata": {},
   "outputs": [
    {
     "name": "stderr",
     "output_type": "stream",
     "text": [
      "Using TensorFlow backend.\n"
     ]
    }
   ],
   "source": [
    "import tensorflow as tf\n",
    "import keras\n",
    "import numpy as np\n",
    "import pandas as pd\n",
    "import sklearn\n",
    "import matplotlib.pyplot as plt\n",
    "import os,shutil\n",
    "import tqdm\n",
    "from tqdm import tqdm\n",
    "import pandas as pd\n",
    "from keras.preprocessing import image"
   ]
  },
  {
   "cell_type": "code",
   "execution_count": 2,
   "metadata": {},
   "outputs": [],
   "source": [
    "# Load the data\n",
    "train_labels = pd.read_csv('train_ids_labels.csv')\n",
    "test_ids = pd.read_csv('test_ids_only.csv')\n",
    "sample = pd.read_csv('sample_submission.csv')\n",
    "images = 'C:/Users/ADEMOLA/Documents/AYOBAMI_DOCUMENT/Computer Programming/Data Science/Machine_Learning+Data_Science_NLP/ZINDI DATA SCIENCE COMPETITIONS/TUNISIA CLASSIFCATION/all_data/'"
   ]
  },
  {
   "cell_type": "code",
   "execution_count": 3,
   "metadata": {},
   "outputs": [
    {
     "name": "stderr",
     "output_type": "stream",
     "text": [
      "100%|██████████████████████████████████████████████████████████████████████████████| 1650/1650 [00:59<00:00, 27.54it/s]\n"
     ]
    }
   ],
   "source": [
    "# Set seed for reproducibility of results\n",
    "np.random.random.seed(2020)\n",
    "test_image = []\n",
    "for i in tqdm(range(test_ids.shape[0])):\n",
    "    img = image.load_img(images+test_ids['Image_ID'][i]+'.JPG', target_size=(150,150,3))\n",
    "    img = image.img_to_array(img)\n",
    "    img /= 255\n",
    "    test_image.append(img)\n",
    "test_data = np.array(test_image)"
   ]
  },
  {
   "cell_type": "code",
   "execution_count": 4,
   "metadata": {},
   "outputs": [
    {
     "name": "stderr",
     "output_type": "stream",
     "text": [
      "100%|██████████████████████████████████████████████████████████████████████████████| 4026/4026 [02:38<00:00, 25.39it/s]\n"
     ]
    }
   ],
   "source": [
    "train_image = []\n",
    "for i in tqdm(range(train_labels.shape[0])):\n",
    "    img = image.load_img(images+train_labels['Image_ID'][i]+'.JPG', target_size=(150,150,3))\n",
    "    img = image.img_to_array(img)\n",
    "    img /= 255\n",
    "    train_image.append(img)\n",
    "train_data = np.array(train_image)"
   ]
  },
  {
   "cell_type": "code",
   "execution_count": 5,
   "metadata": {},
   "outputs": [
    {
     "name": "stdout",
     "output_type": "stream",
     "text": [
      "Shape of test data: (1650, 150, 150, 3)\n",
      "Shape of training data:  (4026, 150, 150, 3)\n"
     ]
    }
   ],
   "source": [
    "print('Shape of test data:',test_data.shape)\n",
    "print('Shape of training data: ',train_data.shape)"
   ]
  },
  {
   "cell_type": "code",
   "execution_count": 6,
   "metadata": {},
   "outputs": [],
   "source": [
    "# Transfer Learning\n",
    "from keras.applications import DenseNet201\n",
    "conv_base = DenseNet201(weights='densenet201_weights_tf_dim_ordering_tf_kernels_notop.h5', input_shape=(150,150,3), include_top=False)"
   ]
  },
  {
   "cell_type": "code",
   "execution_count": 13,
   "metadata": {},
   "outputs": [],
   "source": [
    "# Build the classifier\n",
    "from keras import models, layers, optimizers, regularizers\n",
    "\n",
    "model = models.Sequential()\n",
    "model.add(layers.Flatten())\n",
    "model.add(layers.Dense(128, activation='relu', input_shape=(4*4*1920,)))\n",
    "model.add(layers.Dropout(0.5))\n",
    "model.add(layers.Dense(256, activation='relu'))\n",
    "model.add(layers.Dense(1, activation='sigmoid'))\n",
    "\n",
    "# Compile the model\n",
    "model.compile(loss='binary_crossentropy', optimizer='rmsprop', metrics=['acc'])"
   ]
  },
  {
   "cell_type": "code",
   "execution_count": 24,
   "metadata": {},
   "outputs": [],
   "source": [
    "train_label = train_labels['Label']\n",
    "train_label = np.array(train_label)"
   ]
  },
  {
   "cell_type": "code",
   "execution_count": 25,
   "metadata": {},
   "outputs": [
    {
     "data": {
      "text/plain": [
       "array([0, 0, 1, ..., 0, 1, 1], dtype=int64)"
      ]
     },
     "execution_count": 25,
     "metadata": {},
     "output_type": "execute_result"
    }
   ],
   "source": [
    "train_label"
   ]
  },
  {
   "cell_type": "code",
   "execution_count": 26,
   "metadata": {},
   "outputs": [
    {
     "data": {
      "text/plain": [
       "(4026,)"
      ]
     },
     "execution_count": 26,
     "metadata": {},
     "output_type": "execute_result"
    }
   ],
   "source": [
    "train_label.shape"
   ]
  },
  {
   "cell_type": "code",
   "execution_count": 27,
   "metadata": {},
   "outputs": [],
   "source": [
    "from sklearn.model_selection import train_test_split\n",
    "X_train, X_test, y_train, y_test = train_test_split(train_data, train_label, random_state=0)"
   ]
  },
  {
   "cell_type": "code",
   "execution_count": 17,
   "metadata": {},
   "outputs": [],
   "source": [
    "# Extract features\n",
    "conv_pred = conv_base.predict(X_train)"
   ]
  },
  {
   "cell_type": "code",
   "execution_count": 18,
   "metadata": {},
   "outputs": [
    {
     "data": {
      "text/plain": [
       "(3019, 4, 4, 1920)"
      ]
     },
     "execution_count": 18,
     "metadata": {},
     "output_type": "execute_result"
    }
   ],
   "source": [
    "conv_pred.shape"
   ]
  },
  {
   "cell_type": "code",
   "execution_count": 19,
   "metadata": {},
   "outputs": [
    {
     "data": {
      "text/plain": [
       "(1007, 4, 4, 1920)"
      ]
     },
     "execution_count": 19,
     "metadata": {},
     "output_type": "execute_result"
    }
   ],
   "source": [
    "conv_pred2 = conv_base.predict(X_test)\n",
    "conv_pred2.shape"
   ]
  },
  {
   "cell_type": "code",
   "execution_count": 28,
   "metadata": {},
   "outputs": [
    {
     "name": "stdout",
     "output_type": "stream",
     "text": [
      "Train on 3019 samples, validate on 1007 samples\n",
      "Epoch 1/50\n",
      "3019/3019 [==============================] - 27s 9ms/step - loss: 1.0071 - acc: 0.7546 - val_loss: 0.3972 - val_acc: 0.8064\n",
      "Epoch 2/50\n",
      "3019/3019 [==============================] - 18s 6ms/step - loss: 0.4446 - acc: 0.8271 - val_loss: 0.2773 - val_acc: 0.8709\n",
      "Epoch 3/50\n",
      "3019/3019 [==============================] - 18s 6ms/step - loss: 0.4076 - acc: 0.8430 - val_loss: 0.2838 - val_acc: 0.8610\n",
      "Epoch 4/50\n",
      "3019/3019 [==============================] - 18s 6ms/step - loss: 0.3746 - acc: 0.8642 - val_loss: 0.2494 - val_acc: 0.8957\n",
      "Epoch 5/50\n",
      "3019/3019 [==============================] - 18s 6ms/step - loss: 0.3272 - acc: 0.8735 - val_loss: 0.2505 - val_acc: 0.9017\n",
      "Epoch 6/50\n",
      "3019/3019 [==============================] - 19s 6ms/step - loss: 0.2979 - acc: 0.8880 - val_loss: 0.1946 - val_acc: 0.9255\n",
      "Epoch 7/50\n",
      "3019/3019 [==============================] - 18s 6ms/step - loss: 0.2902 - acc: 0.8973 - val_loss: 0.2025 - val_acc: 0.9275\n",
      "Epoch 8/50\n",
      "3019/3019 [==============================] - 19s 6ms/step - loss: 0.2568 - acc: 0.9043 - val_loss: 0.2314 - val_acc: 0.9245\n",
      "Epoch 9/50\n",
      "3019/3019 [==============================] - 18s 6ms/step - loss: 0.2451 - acc: 0.9102 - val_loss: 0.1953 - val_acc: 0.9255\n",
      "Epoch 10/50\n",
      "3019/3019 [==============================] - 19s 6ms/step - loss: 0.2317 - acc: 0.9155 - val_loss: 0.1836 - val_acc: 0.9215\n",
      "Epoch 11/50\n",
      "3019/3019 [==============================] - 18s 6ms/step - loss: 0.2300 - acc: 0.9175 - val_loss: 0.1754 - val_acc: 0.9335\n",
      "Epoch 12/50\n",
      "3019/3019 [==============================] - 18s 6ms/step - loss: 0.2033 - acc: 0.9222 - val_loss: 0.1639 - val_acc: 0.9355\n",
      "Epoch 13/50\n",
      "3019/3019 [==============================] - 18s 6ms/step - loss: 0.1895 - acc: 0.9338 - val_loss: 0.2906 - val_acc: 0.8967\n",
      "Epoch 14/50\n",
      "3019/3019 [==============================] - 18s 6ms/step - loss: 0.1933 - acc: 0.9334 - val_loss: 0.2174 - val_acc: 0.9166\n",
      "Epoch 15/50\n",
      "3019/3019 [==============================] - 18s 6ms/step - loss: 0.1728 - acc: 0.9391 - val_loss: 0.3266 - val_acc: 0.9106\n",
      "Epoch 16/50\n",
      "3019/3019 [==============================] - 18s 6ms/step - loss: 0.1826 - acc: 0.9367 - val_loss: 0.3324 - val_acc: 0.9106\n",
      "Epoch 17/50\n",
      "3019/3019 [==============================] - 18s 6ms/step - loss: 0.1800 - acc: 0.9374 - val_loss: 0.2735 - val_acc: 0.9235\n",
      "Epoch 18/50\n",
      "3019/3019 [==============================] - 18s 6ms/step - loss: 0.1653 - acc: 0.9467 - val_loss: 0.2008 - val_acc: 0.9315\n",
      "Epoch 19/50\n",
      "3019/3019 [==============================] - 18s 6ms/step - loss: 0.1476 - acc: 0.9480 - val_loss: 0.1960 - val_acc: 0.9374\n",
      "Epoch 20/50\n",
      "3019/3019 [==============================] - 18s 6ms/step - loss: 0.1605 - acc: 0.9450 - val_loss: 0.2264 - val_acc: 0.9394\n",
      "Epoch 21/50\n",
      "3019/3019 [==============================] - 18s 6ms/step - loss: 0.1877 - acc: 0.9470 - val_loss: 0.3374 - val_acc: 0.9136\n",
      "Epoch 22/50\n",
      "3019/3019 [==============================] - 20s 7ms/step - loss: 0.1593 - acc: 0.9526 - val_loss: 0.3660 - val_acc: 0.9215\n",
      "Epoch 23/50\n",
      "3019/3019 [==============================] - 20s 7ms/step - loss: 0.1508 - acc: 0.9513 - val_loss: 0.2644 - val_acc: 0.9265\n",
      "Epoch 24/50\n",
      "3019/3019 [==============================] - 18s 6ms/step - loss: 0.1679 - acc: 0.9497 - val_loss: 0.2845 - val_acc: 0.9186\n",
      "Epoch 25/50\n",
      "3019/3019 [==============================] - 18s 6ms/step - loss: 0.1561 - acc: 0.9546 - val_loss: 0.1866 - val_acc: 0.9434\n",
      "Epoch 26/50\n",
      "3019/3019 [==============================] - 18s 6ms/step - loss: 0.1388 - acc: 0.9596 - val_loss: 0.1972 - val_acc: 0.9444\n",
      "Epoch 27/50\n",
      "3019/3019 [==============================] - 18s 6ms/step - loss: 0.1453 - acc: 0.9516 - val_loss: 0.2819 - val_acc: 0.9355\n",
      "Epoch 28/50\n",
      "3019/3019 [==============================] - 18s 6ms/step - loss: 0.1366 - acc: 0.9559 - val_loss: 0.2274 - val_acc: 0.9454\n",
      "Epoch 29/50\n",
      "3019/3019 [==============================] - 18s 6ms/step - loss: 0.1284 - acc: 0.9563 - val_loss: 0.2280 - val_acc: 0.9414\n",
      "Epoch 30/50\n",
      "3019/3019 [==============================] - 18s 6ms/step - loss: 0.1367 - acc: 0.9576 - val_loss: 0.2268 - val_acc: 0.9484\n",
      "Epoch 31/50\n",
      "3019/3019 [==============================] - 18s 6ms/step - loss: 0.1407 - acc: 0.9589 - val_loss: 0.2531 - val_acc: 0.9444\n",
      "Epoch 32/50\n",
      "3019/3019 [==============================] - 18s 6ms/step - loss: 0.1432 - acc: 0.9553 - val_loss: 0.1987 - val_acc: 0.9394\n",
      "Epoch 33/50\n",
      "3019/3019 [==============================] - 18s 6ms/step - loss: 0.1485 - acc: 0.9589 - val_loss: 0.2479 - val_acc: 0.9394\n",
      "Epoch 34/50\n",
      "3019/3019 [==============================] - 18s 6ms/step - loss: 0.1347 - acc: 0.9632 - val_loss: 0.3928 - val_acc: 0.9196\n",
      "Epoch 35/50\n",
      "3019/3019 [==============================] - 18s 6ms/step - loss: 0.1243 - acc: 0.9626 - val_loss: 0.2167 - val_acc: 0.9464\n",
      "Epoch 36/50\n",
      "3019/3019 [==============================] - 18s 6ms/step - loss: 0.1408 - acc: 0.9606 - val_loss: 0.3077 - val_acc: 0.9305\n",
      "Epoch 37/50\n",
      "3019/3019 [==============================] - 18s 6ms/step - loss: 0.1180 - acc: 0.9669 - val_loss: 0.4780 - val_acc: 0.8987\n",
      "Epoch 38/50\n",
      "3019/3019 [==============================] - 18s 6ms/step - loss: 0.1029 - acc: 0.9665 - val_loss: 0.2436 - val_acc: 0.9434\n",
      "Epoch 39/50\n",
      "3019/3019 [==============================] - 18s 6ms/step - loss: 0.1134 - acc: 0.9669 - val_loss: 0.2717 - val_acc: 0.9444\n",
      "Epoch 40/50\n",
      "3019/3019 [==============================] - 18s 6ms/step - loss: 0.1418 - acc: 0.9642 - val_loss: 0.4345 - val_acc: 0.9156\n",
      "Epoch 41/50\n",
      "3019/3019 [==============================] - 18s 6ms/step - loss: 0.1434 - acc: 0.9629 - val_loss: 0.2171 - val_acc: 0.9484\n",
      "Epoch 42/50\n",
      "3019/3019 [==============================] - 19s 6ms/step - loss: 0.1133 - acc: 0.9636 - val_loss: 0.6054 - val_acc: 0.9057\n",
      "Epoch 43/50\n",
      "3019/3019 [==============================] - 18s 6ms/step - loss: 0.1085 - acc: 0.9702 - val_loss: 0.2332 - val_acc: 0.9434\n",
      "Epoch 44/50\n",
      "3019/3019 [==============================] - 18s 6ms/step - loss: 0.1431 - acc: 0.9662 - val_loss: 0.3038 - val_acc: 0.9474\n",
      "Epoch 45/50\n",
      "3019/3019 [==============================] - 18s 6ms/step - loss: 0.1299 - acc: 0.9682 - val_loss: 0.2905 - val_acc: 0.9464\n",
      "Epoch 46/50\n",
      "3019/3019 [==============================] - 18s 6ms/step - loss: 0.1082 - acc: 0.9712 - val_loss: 0.3797 - val_acc: 0.9335\n",
      "Epoch 47/50\n",
      "3019/3019 [==============================] - 18s 6ms/step - loss: 0.1243 - acc: 0.9675 - val_loss: 0.2604 - val_acc: 0.9513\n",
      "Epoch 48/50\n",
      "3019/3019 [==============================] - 18s 6ms/step - loss: 0.1024 - acc: 0.9712 - val_loss: 0.3045 - val_acc: 0.9454\n",
      "Epoch 49/50\n",
      "3019/3019 [==============================] - 18s 6ms/step - loss: 0.1222 - acc: 0.9689 - val_loss: 0.3107 - val_acc: 0.9404\n",
      "Epoch 50/50\n",
      "3019/3019 [==============================] - 18s 6ms/step - loss: 0.0984 - acc: 0.9712 - val_loss: 0.2765 - val_acc: 0.9374\n"
     ]
    }
   ],
   "source": [
    "history = model.fit(conv_pred, y_train, epochs=50, validation_data=(conv_pred2, y_test), batch_size=10)"
   ]
  },
  {
   "cell_type": "code",
   "execution_count": 56,
   "metadata": {},
   "outputs": [
    {
     "name": "stdout",
     "output_type": "stream",
     "text": [
      "1007/1007 [==============================] - 1s 791us/step\n",
      "Accuracy on test set is :0.94\n"
     ]
    }
   ],
   "source": [
    "test_loss, test_acc = model.evaluate(conv_pred2,y_test)\n",
    "print('Accuracy on test set is :{:.2f}'.format(test_acc))"
   ]
  },
  {
   "cell_type": "code",
   "execution_count": 30,
   "metadata": {},
   "outputs": [],
   "source": [
    "hi = model.predict(conv_pred2)\n",
    "hi_1 = hi.round()"
   ]
  },
  {
   "cell_type": "code",
   "execution_count": 31,
   "metadata": {},
   "outputs": [
    {
     "name": "stdout",
     "output_type": "stream",
     "text": [
      "Error is: 0.25012410028066373\n"
     ]
    }
   ],
   "source": [
    "from sklearn.metrics import mean_squared_error\n",
    "print('Error is:', np.sqrt(mean_squared_error(hi_1, y_test)))"
   ]
  },
  {
   "cell_type": "code",
   "execution_count": 32,
   "metadata": {},
   "outputs": [
    {
     "data": {
      "image/png": "[encoded data removed]",
      "text/plain": [
       "<Figure size 432x288 with 1 Axes>"
      ]
     },
     "metadata": {
      "needs_background": "light"
     },
     "output_type": "display_data"
    }
   ],
   "source": [
    "import matplotlib.pyplot as plt\n",
    "acc = history.history['acc']\n",
    "val_acc = history.history['val_acc']\n",
    "loss = history.history['loss']\n",
    "val_loss = history.history['val_loss']\n",
    "\n",
    "epochs = range(1, len(acc)+1)\n",
    "\n",
    "plt.plot(epochs, acc, 'bo', label='Training acc')\n",
    "plt.plot(epochs, val_acc, 'b', label='Val acc')\n",
    "plt.title('Training and Validation accuracy')\n",
    "plt.legend(loc='best')\n",
    "plt.show()"
   ]
  },
  {
   "cell_type": "code",
   "execution_count": 33,
   "metadata": {},
   "outputs": [
    {
     "data": {
      "image/png": "[encoded data removed]",
      "text/plain": [
       "<Figure size 432x288 with 1 Axes>"
      ]
     },
     "metadata": {
      "needs_background": "light"
     },
     "output_type": "display_data"
    }
   ],
   "source": [
    "plt.plot(epochs, loss, 'bo', label='Training loss')\n",
    "plt.plot(epochs, val_loss, 'b', label='Val loss')\n",
    "plt.title('Training and Validation loss')\n",
    "plt.legend(loc='best')\n",
    "plt.show()"
   ]
  },
  {
   "cell_type": "code",
   "execution_count": 34,
   "metadata": {},
   "outputs": [],
   "source": [
    "conv_pred3 = conv_base.predict(test_data)"
   ]
  },
  {
   "cell_type": "code",
   "execution_count": 43,
   "metadata": {},
   "outputs": [
    {
     "data": {
      "text/plain": [
       "(1650, 4, 4, 1920)"
      ]
     },
     "execution_count": 43,
     "metadata": {},
     "output_type": "execute_result"
    }
   ],
   "source": [
    "conv_pred3.shape"
   ]
  },
  {
   "cell_type": "code",
   "execution_count": 44,
   "metadata": {},
   "outputs": [],
   "source": [
    "pred = model.predict(conv_pred3)"
   ]
  },
  {
   "cell_type": "code",
   "execution_count": 45,
   "metadata": {},
   "outputs": [],
   "source": [
    "new_pred = model.predict_classes(conv_pred3)"
   ]
  },
  {
   "cell_type": "code",
   "execution_count": 52,
   "metadata": {},
   "outputs": [],
   "source": [
    "# Submission file\n",
    "sub = pd.DataFrame()\n",
    "sub['Image_ID'] = test_ids['Image_ID']\n",
    "sub['Label'] = new_pred"
   ]
  },
  {
   "cell_type": "code",
   "execution_count": 53,
   "metadata": {},
   "outputs": [],
   "source": [
    "sub.to_csv('Solution.csv', index=False)"
   ]
  },
  {
   "cell_type": "code",
   "execution_count": null,
   "metadata": {},
   "outputs": [],
   "source": []
  }
 ],
 "metadata": {
  "kernelspec": {
   "display_name": "Python 3",
   "language": "python",
   "name": "python3"
  },
  "language_info": {
   "codemirror_mode": {
    "name": "ipython",
    "version": 3
   },
   "file_extension": ".py",
   "mimetype": "text/x-python",
   "name": "python",
   "nbconvert_exporter": "python",
   "pygments_lexer": "ipython3",
   "version": "3.7.6"
  }
 },
 "nbformat": 4,
 "nbformat_minor": 4
}
